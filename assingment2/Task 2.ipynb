{
 "cells": [
  {
   "cell_type": "markdown",
   "id": "7b9e2036",
   "metadata": {},
   "source": [
    "# Task 2: CNN for telling the time\n",
    "---\n",
    "*Author: Lukas Welzel for Group 24 (?)*\n",
    "\n",
    "### Index:\n",
    "- [Imports](#imports)\n",
    "- [Main Content](#main-content) (xN)\n",
    "  - [Overview](#overview)\n",
    "  - [Loading Data](#loading-data)\n",
    "  - [Selecting Model](#selecting-model)\n",
    "  - [Experiments](#experiments)\n",
    "- [Citations](#citations)\n",
    "- [Footer](#footer)"
   ]
  },
  {
   "cell_type": "code",
   "execution_count": 15,
   "id": "a1d51fe5",
   "metadata": {},
   "outputs": [
    {
     "name": "stdout",
     "output_type": "stream",
     "text": [
      "TF version:  2.6.0\n",
      "Available devices:\n",
      "\t PhysicalDevice(name='/physical_device:GPU:0', device_type='GPU')\n",
      "\t PhysicalDevice(name='/physical_device:GPU:1', device_type='GPU')\n"
     ]
    }
   ],
   "source": [
    "# imports\n",
    "# use environment_TTT.yaml an related IDL kernel\n",
    "from TTTcnn import *\n",
    "# making sure everything looks as it should\n",
    "print(\"TF version: \", tf.__version__)\n",
    "print(f\"Available devices:\")\n",
    "[print(\"\\t\", t) for t in tf.config.list_physical_devices('GPU')]; # at least one GPU"
   ]
  },
  {
   "cell_type": "markdown",
   "id": "6deb3bfd",
   "metadata": {},
   "source": [
    "## Main Content\n",
    "### Overview\n",
    "In TTTcnn.py we defined a CNN by sublassing Keras' Model class. This \"TellTheTimeCNN\" class will be the main focus of this task. The main changes from the base Model is the setup that is now encapsulated and can be interacted with using the \"settings\" argument. TTTcnn.py also contains some utility functions for data loading.\n",
    "\n",
    "### Loading Data"
   ]
  },
  {
   "cell_type": "code",
   "execution_count": 3,
   "id": "f81afa3a",
   "metadata": {},
   "outputs": [
    {
     "name": "stdout",
     "output_type": "stream",
     "text": [
      "Training data on /job:localhost/replica:0/task:0/device:GPU:0\n"
     ]
    }
   ],
   "source": [
    "x_train, base_y_train, x_test, base_y_test = get_data()"
   ]
  },
  {
   "cell_type": "markdown",
   "id": "54d78d62",
   "metadata": {},
   "source": [
    "### Selecting Model\n",
    "Instances of TellTheTimeCNN have a full set of default settings, namely:\n",
    "\n",
    "---\n",
    "<blockquote>\n",
    "    <p>\"learning_rate\":       1e-2 </p>\n",
    "    <p>\"epochs\":              50 </p>\n",
    "    <p>\"batch_size\":          128 </p>\n",
    "    <p>\"encoding\":            \"decimal\" </p>\n",
    "    <p>\"type\":                [\"regression\"],  # classification, regression (can be sequence) </p>\n",
    "    <p>\"actfn_normalization\": [\"tanh\"],  # must be sequence if type is sequence </p>\n",
    "    <p>\"loss\":                [\"mse_sincos\"]  # must be sequence if type is sequence </p>\n",
    "</blockquote>\n",
    "\n",
    "---\n",
    "\n",
    "As is obvious from the last few lines the model is set up to support multiple heads."
   ]
  },
  {
   "cell_type": "code",
   "execution_count": 4,
   "id": "b1153f50",
   "metadata": {},
   "outputs": [
    {
     "name": "stdout",
     "output_type": "stream",
     "text": [
      "Model: \"tell_the_time_cnn\"\n",
      "_________________________________________________________________\n",
      "Layer (type)                 Output Shape              Param #   \n",
      "=================================================================\n",
      "input (InputLayer)           [(None, 150, 150, 1)]     0         \n",
      "_________________________________________________________________\n",
      "rescaling (Rescaling)        (None, 150, 150, 1)       0         \n",
      "_________________________________________________________________\n",
      "conv2d (Conv2D)              (None, 148, 148, 64)      640       \n",
      "_________________________________________________________________\n",
      "conv2d_1 (Conv2D)            (None, 146, 146, 64)      36928     \n",
      "_________________________________________________________________\n",
      "batch_normalization (BatchNo (None, 146, 146, 64)      584       \n",
      "_________________________________________________________________\n",
      "max_pooling2d (MaxPooling2D) (None, 73, 73, 64)        0         \n",
      "_________________________________________________________________\n",
      "conv2d_2 (Conv2D)            (None, 71, 71, 32)        18464     \n",
      "_________________________________________________________________\n",
      "conv2d_3 (Conv2D)            (None, 69, 69, 32)        9248      \n",
      "_________________________________________________________________\n",
      "batch_normalization_1 (Batch (None, 69, 69, 32)        276       \n",
      "_________________________________________________________________\n",
      "max_pooling2d_1 (MaxPooling2 (None, 34, 34, 32)        0         \n",
      "_________________________________________________________________\n",
      "conv2d_4 (Conv2D)            (None, 30, 30, 16)        12816     \n",
      "_________________________________________________________________\n",
      "batch_normalization_2 (Batch (None, 30, 30, 16)        120       \n",
      "_________________________________________________________________\n",
      "max_pooling2d_2 (MaxPooling2 (None, 29, 29, 16)        0         \n",
      "_________________________________________________________________\n",
      "conv2d_5 (Conv2D)            (None, 27, 27, 32)        4640      \n",
      "_________________________________________________________________\n",
      "conv2d_6 (Conv2D)            (None, 25, 25, 32)        9248      \n",
      "_________________________________________________________________\n",
      "batch_normalization_3 (Batch (None, 25, 25, 32)        100       \n",
      "_________________________________________________________________\n",
      "max_pooling2d_3 (MaxPooling2 (None, 12, 12, 32)        0         \n",
      "_________________________________________________________________\n",
      "conv2d_7 (Conv2D)            (None, 10, 10, 64)        18496     \n",
      "_________________________________________________________________\n",
      "conv2d_8 (Conv2D)            (None, 8, 8, 64)          36928     \n",
      "_________________________________________________________________\n",
      "batch_normalization_4 (Batch (None, 8, 8, 64)          32        \n",
      "_________________________________________________________________\n",
      "max_pooling2d_4 (MaxPooling2 (None, 4, 4, 64)          0         \n",
      "_________________________________________________________________\n",
      "flatten (Flatten)            (None, 1024)              0         \n",
      "_________________________________________________________________\n",
      "dense (Dense)                (None, 1024)              1049600   \n",
      "_________________________________________________________________\n",
      "batch_normalization_5 (Batch (None, 1024)              4096      \n",
      "_________________________________________________________________\n",
      "dense_1 (Dense)              (None, 256)               262400    \n",
      "_________________________________________________________________\n",
      "batch_normalization_6 (Batch (None, 256)               1024      \n",
      "_________________________________________________________________\n",
      "dense_2 (Dense)              (None, 32)                8224      \n",
      "_________________________________________________________________\n",
      "batch_normalization_7 (Batch (None, 32)                128       \n",
      "_________________________________________________________________\n",
      "reg_output (Dense)           (None, 1)                 33        \n",
      "=================================================================\n",
      "Total params: 1,474,025\n",
      "Trainable params: 1,470,845\n",
      "Non-trainable params: 3,180\n",
      "_________________________________________________________________\n"
     ]
    }
   ],
   "source": [
    "# setting up a default model without a rng seed\n",
    "default_model = TellTheTimeCNN()"
   ]
  },
  {
   "cell_type": "code",
   "execution_count": 7,
   "id": "2bfb3864",
   "metadata": {},
   "outputs": [
    {
     "name": "stdout",
     "output_type": "stream",
     "text": [
      "Encoding from hh,mm -> f:  (14400, 2)  ->  (14400,)\n"
     ]
    }
   ],
   "source": [
    "# the default model uses decimal encoding which we will now use\n",
    "# encoding of data can be done via the encode_y function of any TellTheTimeCNN instance.\n",
    "y_train, y_test = default_model.encode_y(base_y_train), default_model.encode_y(base_y_test)\n",
    "try:\n",
    "    print(\"Encoding from hh,mm -> f: \", base_y_train.shape, \" -> \", y_train.shape)\n",
    "except AttributeError:\n",
    "    print(\"Encoding from hh,mm -> f: \", base_y_train.shape, \" -> \", len(y_train))"
   ]
  },
  {
   "cell_type": "code",
   "execution_count": null,
   "id": "3eb5802f",
   "metadata": {},
   "outputs": [],
   "source": [
    "default_model.train(x_train, y_train)\n",
    "default_model.test(x_test, y_test)"
   ]
  },
  {
   "cell_type": "markdown",
   "id": "883356cb",
   "metadata": {},
   "source": [
    "### Experiments"
   ]
  },
  {
   "cell_type": "markdown",
   "id": "c83fd72a",
   "metadata": {},
   "source": [
    "Since we had large issues with training stability for both classification and regression we implement an early stopping method and learning rate schedule to improe stability and not waste training time on \"lost\" runs where the losses explode. We found that, optimizer making use of momentum where needed for timely convergence, however we note that simple gradient descent optimizers might have improved the stability of the training. In practice however, the architecures that were tried did not find good optima with simple optimizers and failed to converge no matter the learning rate. To further improve staiblity we attempted to implement a learning rate scheduler in combination with a function to reduce the learning rate when the validation loss plateaus. Sadly, TF2.6.0 still contains a 2 year old bug that makes this combination impossible, see e.g. https://github.com/tensorflow/tensorflow/issues/41639."
   ]
  },
  {
   "cell_type": "code",
   "execution_count": 8,
   "id": "1297dc2b",
   "metadata": {},
   "outputs": [],
   "source": [
    "import matplotlib\n",
    "import matplotlib.pyplot as plt"
   ]
  },
  {
   "cell_type": "code",
   "execution_count": 13,
   "id": "b18fea17",
   "metadata": {},
   "outputs": [
    {
     "data": {
      "image/png": "[encoded data removed]",
      "text/plain": [
       "<Figure size 1728x432 with 6 Axes>"
      ]
     },
     "metadata": {
      "needs_background": "light"
     },
     "output_type": "display_data"
    }
   ],
   "source": [
    "# Data visualization\n",
    "fig, (ax, ax4, ax2, ax3) = plt.subplots(1, 4, constrained_layout=True, figsize=(24, 6))\n",
    "ax.hist(y_train, bins=100, label=\"Y training (decimal)\")\n",
    "ax.hist(y_test, bins=100, label=\"Y testing (decimal)\")\n",
    "ax.set_xlabel(\"Decimal encoding (hh:mm -> (0,1] f)\")\n",
    "ax.set_ylabel(\"Counts\")\n",
    "ax.legend()\n",
    "\n",
    "hist = ax2.hist2d(base_y_train[:, 0], base_y_train[:, 1], vmin=0., bins=[12, 60], label=\"Y training (hh:mm)\")\n",
    "fig.colorbar(hist[3], ax=ax2,label=\"Counts\")\n",
    "ax2.set_xlabel(\"Hours\")\n",
    "ax2.set_ylabel(\"Minutes\")\n",
    "\n",
    "hist = ax3.hist2d(base_y_test[:, 0], base_y_test[:, 1], vmin=0., bins=[12, 60], label=\"Y testing (hh:mm)\")\n",
    "fig.colorbar(hist[3], ax=ax3, label=\"Counts\")\n",
    "ax3.set_xlabel(\"Hours\")\n",
    "ax3.set_ylabel(\"Minutes\")\n",
    "\n",
    "ax4.hist(base_y_train[:, 1], bins=60, label=\"Y training (minutes)\")\n",
    "ax4.set_xlabel(\"Minutes\")\n",
    "ax4.set_ylabel(\"Counts\")\n",
    "ax4.legend()\n",
    "\n",
    "fig.suptitle(\"Learnin/testing data distributions\")\n",
    "\n",
    "plt.show()"
   ]
  },
  {
   "cell_type": "code",
   "execution_count": null,
   "id": "68032bc2",
   "metadata": {},
   "outputs": [],
   "source": [
    "# Classification\n",
    "def prep_class_1head(settings, n_classes):\n",
    "    class_head1_model = TellTheTimeCNN(settings=settings)\n",
    "    y_train = default_model.encode_y(base_y_train, n_classes=n_classes)\n",
    "    y_test = default_model.encode_y(base_y_test, n_classes=n_classes)\n",
    "    return class_head1_model, y_train, y_test\n",
    "\n",
    "default_classification_settings = {\n",
    "    \"learning_rate\": 1.0e-3,\n",
    "    \"encoding\": \"common_classes\",\n",
    "    \"type\": [\"classification\"],  # classification, regression (can be sequence)\n",
    "    \"loss\": [\"categorical\"],  # must be sequence if type is sequence\n",
    "    \"n_classes\": [72],  # must be sequence if type is sequence\n",
    "}"
   ]
  },
  {
   "cell_type": "code",
   "execution_count": null,
   "id": "ff9ed8eb",
   "metadata": {},
   "outputs": [],
   "source": [
    "# SINGLE HEAD CLASSIFICATION MODELS\n",
    "# settings 72 classes, single head\n",
    "settings = {**default_classification_settings, **{\"n_classes\": [72]}}\n",
    "class72_head1_model, y_train, y_test = prep_class_1head(settings, n_classes)\n",
    "\n",
    "# settings 24 classes, single head\n",
    "settings = {**default_classification_settings, **{\"n_classes\": [24]}}\n",
    "class24_head1_model, y_train, y_test = prep_class_1head(settings, n_classes)\n",
    "\n",
    "# settings 12 classes, single head\n",
    "settings = {**default_classification_settings, **{\"n_classes\": [12]}}\n",
    "class12_head1_model, y_train, y_test = prep_class_1head(settings, n_classes)\n",
    "\n",
    "# settings 720 classes, single head, you really should not test this\n",
    "settings = {**default_classification_settings, **{\"n_classes\": [720]}}\n",
    "class720_head1_model, y_train, y_test = prep_class_1head(settings, n_classes)"
   ]
  },
  {
   "cell_type": "code",
   "execution_count": null,
   "id": "173d413c",
   "metadata": {},
   "outputs": [],
   "source": [
    "# Regression\n"
   ]
  },
  {
   "cell_type": "code",
   "execution_count": null,
   "id": "84bc9873",
   "metadata": {},
   "outputs": [],
   "source": [
    "# Multihead\n",
    "# Hour and Minute classification heads (bad idea but better than the 720 classes)\n",
    "# Hour classification and Minute regression heads (makes sense right?)\n",
    "# Hour and Minute regression heads (makes even more sense since the hour angle changes as the minute angle changes as well)\n"
   ]
  }
 ],
 "metadata": {
  "kernelspec": {
   "display_name": "IDL",
   "language": "python",
   "name": "idl"
  },
  "language_info": {
   "codemirror_mode": {
    "name": "ipython",
    "version": 3
   },
   "file_extension": ".py",
   "mimetype": "text/x-python",
   "name": "python",
   "nbconvert_exporter": "python",
   "pygments_lexer": "ipython3",
   "version": "3.9.13"
  }
 },
 "nbformat": 4,
 "nbformat_minor": 5
}
