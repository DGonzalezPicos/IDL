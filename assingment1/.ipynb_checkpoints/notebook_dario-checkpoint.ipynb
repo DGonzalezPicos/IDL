{
 "cells": [
  {
   "cell_type": "markdown",
   "id": "66c5aaa0",
   "metadata": {},
   "source": [
    "# Assignment 1 task 1\n",
    "## Data dimensionality, distance-based classifiers\n",
    "From the instructions:  \n",
    "*The purpose of this task is to develop some intuitions about clouds of points in high-dimensional spaces. In\n",
    "particular, you are supposed to use dimensionality reduction techniques to visualize your data, develop a\n",
    "very simple algorithm for classifying hand-written digits and compare it to another distance-based classifier.*"
   ]
  },
  {
   "cell_type": "code",
   "execution_count": 154,
   "id": "a4ed3089",
   "metadata": {},
   "outputs": [],
   "source": [
    "import matplotlib.pyplot as plt\n",
    "import numpy as np\n",
    "import pandas as pd\n",
    "plt.rcParams['image.origin'] = 'lower'\n",
    "plt.rcParams['image.aspect'] = 'auto'"
   ]
  },
  {
   "cell_type": "markdown",
   "id": "a917de01",
   "metadata": {},
   "source": [
    "### Read training data:\n",
    "* `train_im` = images of numbers with shape (1706, 256) pixel. \n",
    "     * Reshape them from 256 to 16x16 and call the array `tim`\n",
    "* `labels` = correct labeling of each image \n",
    "    * Convert to array of integers"
   ]
  },
  {
   "cell_type": "code",
   "execution_count": 155,
   "id": "cfbad29b",
   "metadata": {},
   "outputs": [
    {
     "name": "stdout",
     "output_type": "stream",
     "text": [
      "(1706, 256)\n",
      "(1706, 16, 16)\n",
      "(1706,)\n"
     ]
    }
   ],
   "source": [
    "train_im = pd.read_csv('train_in.csv').to_numpy()\n",
    "tim = np.array([x.reshape(16,16) for x in train_im])\n",
    "\n",
    "labels = pd.read_csv('train_out.csv').to_numpy()\n",
    "labels = np.array([int(x) for x in labels])\n",
    "\n",
    "Npix = train_im.shape[1]\n",
    "print(train_in.shape)\n",
    "print(tim.shape)\n",
    "print(labels.shape)"
   ]
  },
  {
   "cell_type": "code",
   "execution_count": 156,
   "id": "9d56285e",
   "metadata": {},
   "outputs": [
    {
     "data": {
      "image/png": "[encoded data removed]",
      "text/plain": [
       "<Figure size 1008x288 with 3 Axes>"
      ]
     },
     "metadata": {
      "needs_background": "light"
     },
     "output_type": "display_data"
    }
   ],
   "source": [
    "fig, ax = plt.subplots(1,3,figsize=(14,4))\n",
    "\n",
    "for i in range(len(ax)):\n",
    "    ax[i].imshow(tim[i])\n",
    "    ax[i].set_title(labels[i], fontsize=20)\n",
    "plt.show()"
   ]
  },
  {
   "cell_type": "markdown",
   "id": "c5845bf2",
   "metadata": {},
   "source": [
    "## 1.1 Group images by number and compute the center\n",
    "For each digit $d$ ($d = 0,1,...,9$) consider a cloud of points $C_d$ with dimension ($N_d$, 256) where $N_d$ is the number of images beloging to number $d$. For each cloud, we can take the center $c_d$ as the mean over $N_d$, resulting in another 256-dim-vector.  \n",
    "I define a list containing the clouds for every number: `storm`."
   ]
  },
  {
   "cell_type": "code",
   "execution_count": 157,
   "id": "098cea76",
   "metadata": {},
   "outputs": [
    {
     "name": "stdout",
     "output_type": "stream",
     "text": [
      "Number \t:\tN_images\n",
      "-------------------------\n",
      " 1 \t:\t 319\n",
      " 2 \t:\t 252\n",
      " 3 \t:\t 202\n",
      " 4 \t:\t 131\n",
      " 5 \t:\t 122\n",
      " 6 \t:\t  88\n",
      " 7 \t:\t 150\n",
      " 8 \t:\t 166\n",
      " 9 \t:\t 144\n",
      "10 \t:\t 132\n"
     ]
    }
   ],
   "source": [
    "storm = [train_im[np.where(labels==x)] for x in range(0,10)]\n",
    "centers = [np.mean(storm[x], axis=0) for x in range(0,10)]\n",
    "# Print how many images of each number we have\n",
    "print('Number \\t:\\tN_images')\n",
    "print('-------------------------')\n",
    "for n in range(10):\n",
    "    print('{:2} \\t:\\t {:3}'.format(n+1, storm[n].shape[0]))"
   ]
  },
  {
   "cell_type": "markdown",
   "id": "d3afd868",
   "metadata": {},
   "source": [
    "### Calculate distance between the centers"
   ]
  },
  {
   "cell_type": "code",
   "execution_count": 158,
   "id": "3743f3e4",
   "metadata": {},
   "outputs": [],
   "source": [
    "def distance(arr1, arr2):\n",
    "    return sum(np.power(arr1[x] - arr2[x], 2) for x in range(arr1.size))\n",
    "\n",
    "N = len(storm)\n",
    "# Set up array to store the distance between pairs\n",
    "dist = np.zeros((N,N))\n",
    "# Loop twice to get all the pairs\n",
    "for i in range(N):\n",
    "    arr1 = centers[i]\n",
    "    for j in range(N):\n",
    "        arr2 = centers[j]\n",
    "        dist[i,j] = distance(arr1, arr2)"
   ]
  },
  {
   "cell_type": "markdown",
   "id": "f61fca5b",
   "metadata": {},
   "source": [
    "Next we plot the resulting 2D array. The higher the distance the easiest it is to labeling them correctly. We observe that **the pair (1,0) has the highest distance** from the rest while the pairs **{(5,3), (6,5), (9,7)} have the lowest** hence those pairs will be the trickiest."
   ]
  },
  {
   "cell_type": "code",
   "execution_count": 159,
   "id": "abe23cf3",
   "metadata": {},
   "outputs": [
    {
     "data": {
      "image/png": "[encoded data removed]",
      "text/plain": [
       "<Figure size 720x504 with 2 Axes>"
      ]
     },
     "metadata": {
      "needs_background": "light"
     },
     "output_type": "display_data"
    }
   ],
   "source": [
    "fig, ax = plt.subplots(1, figsize=(10,7))\n",
    "im = ax.imshow(dist)\n",
    "fig.colorbar(im)\n",
    "plt.show()"
   ]
  },
  {
   "cell_type": "markdown",
   "id": "bbf647a0",
   "metadata": {},
   "source": [
    "## 1.2 Experiment with three dimensionality reduction algorithms\n",
    "* PCA\n",
    "* UMAP\n",
    "* T-SNE"
   ]
  },
  {
   "cell_type": "code",
   "execution_count": null,
   "id": "caab2600",
   "metadata": {},
   "outputs": [],
   "source": []
  }
 ],
 "metadata": {
  "kernelspec": {
   "display_name": "Python 3 (ipykernel)",
   "language": "python",
   "name": "python3"
  },
  "language_info": {
   "codemirror_mode": {
    "name": "ipython",
    "version": 3
   },
   "file_extension": ".py",
   "mimetype": "text/x-python",
   "name": "python",
   "nbconvert_exporter": "python",
   "pygments_lexer": "ipython3",
   "version": "3.9.7"
  }
 },
 "nbformat": 4,
 "nbformat_minor": 5
}
